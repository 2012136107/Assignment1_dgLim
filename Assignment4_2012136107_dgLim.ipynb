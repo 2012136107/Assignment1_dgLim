{
 "cells": [
  {
   "cell_type": "markdown",
   "metadata": {},
   "source": [
    "### [1번 문제]\n",
    "파일 s.txt 내의 다음 내용과 함께 아래 문제의 코드를 제시하시오."
   ]
  },
  {
   "cell_type": "markdown",
   "metadata": {},
   "source": [
    "pig ham\n",
    "\n",
    "\n",
    "cat dog\n",
    "\n",
    "\n",
    "ham bird\n",
    "\n",
    "\n",
    "dog pig"
   ]
  },
  {
   "cell_type": "markdown",
   "metadata": {},
   "source": [
    " - 1) 파일 s.txt을 읽어서 각 라인에 있는 첫 번째 단어(문자열) 자체들을 기준으로 라인별 정렬후 파일 s1.txt에 그 결과를 기록하는 코드를 작성하시오. 즉, 프로그램 수행 후 s1.txt에 있는 파일 내용은 다음과 같다.\n"
   ]
  },
  {
   "cell_type": "markdown",
   "metadata": {},
   "source": [
    "cat dog\n",
    "\n",
    "\n",
    "dog pig\n",
    "\n",
    "\n",
    "ham bird\n",
    "\n",
    "\n",
    "pig ham"
   ]
  },
  {
   "cell_type": "code",
   "execution_count": 2,
   "metadata": {},
   "outputs": [
    {
     "name": "stdout",
     "output_type": "stream",
     "text": [
      "ham bird\n",
      "cat dog\n",
      "pig ham\n",
      "dog pig\n",
      "\n"
     ]
    }
   ],
   "source": [
    "f = open('s.txt')\n",
    "line = f.readlines()\n",
    "b = sorted(line)\n",
    "\n",
    "f2 = open('s1.txt', 'w')\n",
    "f2.writelines(b)\n",
    "\n",
    "f.close()\n",
    "f2.close()\n",
    "\n",
    "\n",
    "#f2 = open('s2.txt')\n",
    "#f2.seek(0)\n",
    "#print(f2.read())"
   ]
  },
  {
   "cell_type": "markdown",
   "metadata": {},
   "source": [
    "[설명]\n",
    "\n",
    " open을 통해 기존에 없다면 s.txt 파일을 새로 생성하거나, 기존 s.txt를 열고, readlines() 메소드를 통해 라인 단위로 읽어온다. \n",
    " 그리고 sorting을 한다.\n",
    " \n",
    " 그 다음 write모드로 s1.txt를 생성하여 정렬된 내용을 입력한다."
   ]
  },
  {
   "cell_type": "markdown",
   "metadata": {
    "collapsed": true
   },
   "source": [
    "-  2) 파일 s.txt을 읽어서 각 라인에 있는 두 번째 단어(문자열) 자체들을 기준으로 라인별 정렬후 파일 s2.txt에 그 결과를 기록하는 코드를 작성하시오. 즉, 프로그램 수행 후 s2.txt에 있는 파일 내용은 다음과 같다."
   ]
  },
  {
   "cell_type": "markdown",
   "metadata": {},
   "source": [
    "ham bird\n",
    "\n",
    "\n",
    "cat dog\n",
    "\n",
    "\n",
    "pig ham\n",
    "\n",
    "\n",
    "dog pig"
   ]
  },
  {
   "cell_type": "code",
   "execution_count": 8,
   "metadata": {},
   "outputs": [
    {
     "name": "stdout",
     "output_type": "stream",
     "text": [
      "ham bird\n",
      "cat dog\n",
      "pig ham\n",
      "dog pig\n",
      "\n"
     ]
    }
   ],
   "source": [
    "f = open('s.txt')\n",
    "line = f.readlines()\n",
    "\n",
    "#k = line[0].find(' ') = 3\n",
    "\n",
    "c = sorted(line, key=lambda line: line[4])\n",
    "\n",
    "f3 = open('s2.txt', 'w')\n",
    "f3.writelines(c)\n",
    "\n",
    "f.close()\n",
    "f3.close()\n",
    "\n",
    "#f3 = open('s2.txt')\n",
    "#f3.seek(0)\n",
    "#print(f3.read())"
   ]
  },
  {
   "cell_type": "markdown",
   "metadata": {},
   "source": [
    "[설명]\n",
    "\n",
    " 각 라인의 두 번째 문자열을 기준으로 줄을 정렬하는 문제인데, 첫 번째 문제와 같이 입력을 받고, 두 번째 문자열을 찾기 위해 공백 문자를 기준으로 두 번째 문자열이 시작하는 인덱스의 값을 가지고 와서 sort한다."
   ]
  },
  {
   "cell_type": "markdown",
   "metadata": {},
   "source": [
    "- 3) 파일 s.txt을 읽어서 각 라인들에 있는 모든 단어들을 순차적으로 다시 나열하되 각 라인에 세 개의 단어들이 오도록 하여 s3.txt에 기록하는 코드를 작성하시오. 즉, 프로그램 수행 후 s3.txt에 있는 파일 내용은 다음과 같다."
   ]
  },
  {
   "cell_type": "markdown",
   "metadata": {},
   "source": [
    "pig ham cat\n",
    "\n",
    "\n",
    "dog ham bird\n",
    "\n",
    "\n",
    "dog pig"
   ]
  },
  {
   "cell_type": "code",
   "execution_count": 10,
   "metadata": {},
   "outputs": [
    {
     "name": "stdout",
     "output_type": "stream",
     "text": [
      "pig ham cat\n",
      "dog ham bird\n",
      "bird dog\n"
     ]
    }
   ],
   "source": [
    "f = open('s.txt')\n",
    "line = f.readlines()\n",
    "\n",
    "f1 = open('s3.txt', 'w')\n",
    "\n",
    "k = ''.join(line)\n",
    "k = k.strip()\n",
    "k = k.split('\\n')\n",
    "k = ' '.join(k)\n",
    "k = k.split()\n",
    "\n",
    "i=1\n",
    "\n",
    "while i < len(k):\n",
    "    if(i%3 == 0):\n",
    "        f1.write(k[i-3] + \" \" + k[i-2] + \" \" + k[i-1] + '\\n')\n",
    "    elif(i == len(k)-1 and len(k)%3 == 2):\n",
    "        f1.write(k[i-2] + \" \" + k[i-1])\n",
    "    elif(i == len(k)-1 and len(k)%3 == 1):\n",
    "        f1.write(k[i-1])\n",
    "    i = i+1\n",
    "\n",
    "    \n",
    "f.close()\n",
    "f1.close()\n",
    "\n",
    "#f3= open('s3.txt')\n",
    "#f3.seek(0)\n",
    "#print(f3.read())"
   ]
  },
  {
   "cell_type": "markdown",
   "metadata": {},
   "source": [
    "[설명]\n",
    "\n",
    " 줄에 관계 없이 들어오는 단어를 라인별로 리스트에 넣고, 공백을 기준으로 문자열로 만들어 쪼개고, 줄바꿈 문자를 기준으로 리스트를 만들고 다시 공백을 놓고 각 문자를 문자열로 만들어 단어별로 쪼개서 최종적으로 하나의 리스트로 각 단어들을 좁힌다. 그 뒤 3개 단어별로 순서대로 출력하도록 했다. "
   ]
  },
  {
   "cell_type": "markdown",
   "metadata": {
    "collapsed": true
   },
   "source": [
    "### [2번 문제]\n",
    "\n",
    "다음과 같은 조건들을 참고하여 회원 가입 및 로그인 프로그램을 작성하시오.\n",
    "\n",
    "- 1) 프로그램 시작 후 다음과 같은 메시지가 출력되어 1, 2, 3 중 하나의 값을 입력 받도록 한다.\n",
    "\n",
    "    Welcome to Our Service\n",
    "\n",
    "        1.Sign Up\n",
    "        2.Sign In\n",
    "        3.Quit"
   ]
  },
  {
   "cell_type": "code",
   "execution_count": 1,
   "metadata": {},
   "outputs": [
    {
     "name": "stdout",
     "output_type": "stream",
     "text": [
      "Welcome to Our Service\n",
      " 1. Sign Up \n",
      " 2. Sign in \n",
      " 3. Quit \n",
      "\n",
      "\n",
      ">> please select menu : 1\n",
      "Please input user information\n",
      "User ID : lim\n",
      "User Password : 222\n",
      "User Name : 333\n",
      "User School : 44\n",
      "\n",
      "Welcome to Our Service\n",
      " 1. Sign Up \n",
      " 2. Sign in \n",
      " 3. Quit \n",
      "\n",
      "\n",
      ">> please select menu : 2\n",
      "Please input ID and Password\n",
      "User ID : lim\n",
      "User Password : 222\n",
      "Hello lim: [\"b'bb2aedba974a0dac848828bd08cd082f'\", '333', '44'] !\n",
      "Welcome to Our Service\n",
      " 1. Sign Up \n",
      " 2. Sign in \n",
      " 3. Quit \n",
      "\n",
      "\n",
      ">> please select menu : 3\n"
     ]
    }
   ],
   "source": [
    "from hashlib import blake2b\n",
    "from hmac import compare_digest\n",
    "\n",
    "SECRET_KEY = b'pseudorandomly generated server secret key'\n",
    "AUTH_SIZE = 16\n",
    "\n",
    "open(\"access.txt\", \"w\")\n",
    "\n",
    "def sign(cookie):\n",
    "    h = blake2b(digest_size=AUTH_SIZE, key=SECRET_KEY)\n",
    "    h.update(cookie)    \n",
    "    return h.hexdigest().encode('utf-8')\n",
    "\n",
    "#가입\n",
    "def signUp():\n",
    "    print(\"Please input user information\")\n",
    "    user_info = []                                 #사용자 아이디를 제외한 정보를 저장할 리스트\n",
    "\n",
    "    id_plain = str(input(\"User ID : \"))            #사용자 아이디 저장\n",
    "    acc = open(\"access.txt\", \"r\")\n",
    "    user_id = []                                   #파일에 저장된 사용자 아이디 목록을 저장할 리스트\n",
    "      \n",
    "    for line in acc:\n",
    "        user_id.append(line.split()[0].strip(':'))\n",
    "    \n",
    "    while id_plain in user_id:\n",
    "        print(\"Sorry, the entered ID is already used\")\n",
    "        yn = str(input(\"Are you want to re-input your id? (Y / N)\"))\n",
    "        if yn == 'Y' or yn == 'y':\n",
    "            id_plain = str(input(\"User ID : \"))\n",
    "        elif yn == 'N' or yn == 'n':\n",
    "            print(\"Return to main menu\")\n",
    "            return 0\n",
    "\n",
    "        \n",
    "    password_plain = str(input(\"User Password : \"))\n",
    "    password_encrypted = sign((password_plain).encode('utf-8'))\n",
    "#encode type 'utf-8'\n",
    "    user_info.append(password_encrypted)\n",
    "    user_info.append(str(input(\"User Name : \")))\n",
    "    user_info.append(str(input(\"User School : \")))\n",
    "\n",
    "    acc = open(\"access.txt\", \"a+\")\n",
    "    print()\n",
    "    \n",
    "    acc.writelines(id_plain + \": \"+ str(user_info[0]) +\", \"+ user_info[1] + \", \"+ user_info[2]+ '\\n')\n",
    "    acc.close()\n",
    "    \n",
    "#로그인    \n",
    "def signIn():\n",
    "    acc = open(\"access.txt\", \"r\")\n",
    "    print(\"Please input ID and Password\")\n",
    "    id_plain = str(input(\"User ID : \"))\n",
    "    user_id = []\n",
    "    user_pw = []\n",
    "    for line in acc:\n",
    "        user_id.append(line.split(\":\")[0])\n",
    "        user_pw.append(line.split(\":\")[1].strip().split(\", \"))\n",
    "\n",
    "    user_acc = dict(zip(user_id, user_pw))\n",
    "     \n",
    "    while (id_plain in user_id) == False:\n",
    "        print(\"Sorry, you are not registered member.\")\n",
    "        yn = str(input(\"Are you want to re-input your id? (Y / N)\"))\n",
    "        if yn == 'Y' or yn == 'y':\n",
    "            id_plain = str(input(\"User ID : \"))\n",
    "        elif yn == 'N' or yn == 'n':\n",
    "            print(\"Return to main menu\")\n",
    "            return 0\n",
    "        \n",
    "        \n",
    "    password_plain = str(input(\"User Password : \"))\n",
    "    password_encrypted = sign((password_plain).encode('utf-8'))\n",
    "    password_encrypted = str(password_encrypted)\n",
    "    \n",
    "    \n",
    "    while (password_encrypted == user_acc[id_plain][0]) == False:\n",
    "        print(\"Sorry, the entered password is not correct\")\n",
    "        yn = str(input(\"Are you want to re-input your password? (Y / N)\"))\n",
    "        if yn == 'Y' or yn == 'y':\n",
    "            password_plain = str(input(\"User Password : \"))\n",
    "            password_encrypted = sign((password_plain).encode('utf-8'))\n",
    "            password_encrypted = str(password_encrypted)\n",
    "        elif yn == 'N' or yn == 'n':\n",
    "            print(\"Return to main menu\")\n",
    "            return 0\n",
    "    print(\"Hello\", id_plain + \":\", user_acc[id_plain][:], \"!\")\n",
    "    acc.close()\n",
    "\n",
    "def Quit():\n",
    "    return 0\n",
    "\n",
    "menu = {1 : signUp, 2 : signIn, 3 : Quit}\n",
    "\n",
    "def selMenu():\n",
    "    sel = 0\n",
    "    print(\"Welcome to Our Service\")\n",
    "    \n",
    "    print(\" 1. Sign Up \\n 2. Sign in \\n 3. Quit \\n\\n\")\n",
    "    sel = int(input(\">> please select menu : \"))\n",
    "    \n",
    "    while(sel > 3 or sel < 1):\n",
    "        print(\"\\n Please input 1 to 3! \\n\")\n",
    "        sel = int(input(\">> please select menu : \"))\n",
    "\n",
    "    return sel\n",
    "sel = 0\n",
    "\n",
    "while sel != 3:\n",
    "    sel = selMenu()\n",
    "    menu[sel]()"
   ]
  },
  {
   "cell_type": "markdown",
   "metadata": {
    "collapsed": true
   },
   "source": [
    "[설명]\n",
    "\n",
    "간단하게 문제를 풀어보면 큰 틀에서 이 문제에서 구현해야할 기능은 메뉴 선택, 가입, 록인, 그리고 종료이다.\n",
    " 가입, 로그인, 메뉴는 각 함수로 나누고, 사전 객체를 넣어서 메뉴의 번호와 대응하도록 구현하였다.\n",
    " 가입(Sign up)기능을 구현하는데 핵심적인 기능은 신규 사용자의 ID가 기존 사용자의 ID와 중복되지 않도록 체크하는 것이고, 이를 구현하기 위해서 가입된 사용자의 정보가 저장된 access.txt파일에서 적절하게 사용자의 정보를 파싱하고, 입력된 신규 사용자의 정보와 비교하여 ID를 중복되지 않도록 한다.\n",
    "  \n",
    "  사용자 정보 내용을 split, strip, 슬라이싱을 이용하여 적절하게 사용자의 ID만 리스트로 추출한다. 그리고 그 ID와 새로 입력받은 ID를 비교하여 다르면 입력받을 수 있도록 하는것이다.\n",
    "  \n",
    "  사용자 정보의 비밀번호는 hashlib를 이용하여 암호화를 하고 저장한다.\n",
    "  로그인(Sign in)기능에서 구현해야하는 것은 기존 사용자의 ID가 입력되었는지를 구별하고, 새로 입력받은 비밀번호와 기존의 암호화된 비밀번호가 서로 일치하는지(decode 이용)를 비교하여 잘못된 정보가 입력되었을 시 다시 재입력 받도록 하며, 일치하다면 사용자의 정보를 출력하도록 한다."
   ]
  },
  {
   "cell_type": "markdown",
   "metadata": {},
   "source": [
    "## [3번 문제]\n",
    "\n",
    "range() 함수와 유사한 frange() 함수를 다음 조건을 참고하여 만드시오.\n",
    "\n",
    "- 1) frange()의 인자 구성은 다음과 같이 range와 동일하지만 각 인수들은 음수를 받지 않는다고 가정한다.\n",
    "\n",
    "      range(stop)\n",
    "      range(start, stop[, step])\n",
    "    \n",
    "\n",
    "- 2) frange() 함수의 인자에 대한 기본 시작(start) 값은 0.0이고, 기본 단계(step) 값은 0.1이다.\n",
    "- 3) frange 사용 예\n",
    "  - 3-1) frange(0.5)\n",
    "    - [0.0, 0.1, 0.2, 0.3, 0.4]\n",
    "  - 3-2) frange(1.0, 2.0)\n",
    "    - [1.0, 1.1, 1.2, 1.3, 1.4, 1.5, 1.6, 1.7, 1.8, 1.9]\n",
    "  - 3-3) frange(2.2, 4.0, 0.5)\n",
    "    - [2.2, 2.7, 3.2, 3.7]"
   ]
  },
  {
   "cell_type": "code",
   "execution_count": 11,
   "metadata": {},
   "outputs": [
    {
     "name": "stdout",
     "output_type": "stream",
     "text": [
      "[0.0, 0.1, 0.2, 0.3, 0.4]\n",
      "[1.0, 1.1, 1.2, 1.3, 1.4, 1.5, 1.6, 1.7, 1.8, 1.9]\n",
      "[1.0, 1.5, 2.0, 2.5, 3.0, 3.5]\n"
     ]
    }
   ],
   "source": [
    "# 가변 인수 리스트\n",
    "# decimal 모듈은 신속하고 정확하게 반올림 된 10진수 부동 소수점 연산을\n",
    "#을 지원한다.\n",
    "\n",
    "import sys, os\n",
    "import math, cmath\n",
    "from decimal import *\n",
    "\n",
    "def frange(stmp, *arg):\n",
    "    result = []\n",
    "    \n",
    "    #quantize()는 반올림 자리 수, rounding은 반올림, 반내림 옵션\n",
    "    if len(arg) == 0:\n",
    "        start = Decimal(0.0).quantize(Decimal(\".000001\"), rounding = ROUND_DOWN)\n",
    "        while start < stmp:\n",
    "            result.append(float(start))\n",
    "            start += Decimal(0.1).quantize(Decimal(\".000001\"), rounding = ROUND_DOWN)\n",
    "        return result\n",
    "\n",
    "    else:\n",
    "        start = Decimal(stmp).quantize(Decimal(\".000001\"), rounding = ROUND_DOWN)\n",
    "        stop = Decimal(arg[0]).quantize(Decimal(\".000001\"), rounding = ROUND_DOWN)\n",
    "        if len(arg) == 2:\n",
    "            step = Decimal(arg[1]).quantize(Decimal(\".000001\"), rounding = ROUND_DOWN)\n",
    "        else:\n",
    "            step = Decimal(0.1).quantize(Decimal(\".000001\"), rounding = ROUND_DOWN)\n",
    "\n",
    "        while start < stop:\n",
    "            result.append(float(start))\n",
    "            start += step\n",
    "        return result\n",
    "    \n",
    "print(frange(0.5))\n",
    "print(frange(1.0, 2.0))\n",
    "print(frange(1.0, 4.0, 0.5))"
   ]
  },
  {
   "cell_type": "markdown",
   "metadata": {},
   "source": [
    "[설명]\n",
    "\n",
    " 이 문제를 해결하기 위해 가변인수를 사용하였다. 우선, 인자가 몇 개가 입력되었는지를 체크항, 인자의 개수에 따라 기능을 나누었다.\n",
    " 인자 arg가 0개로 디폴트이면 0부터 입력한 값보다 작은 단위 0.1 단위로 리스트로 출력하고 arg가 1개이면 입력 값부터 arg 값보다 작은 값을 0.1단위로 출력하며, arg가 2개이면 start:stop:step으로 보면 된다."
   ]
  },
  {
   "cell_type": "markdown",
   "metadata": {},
   "source": [
    "## [4번 문제]\n",
    "\n",
    "가변인수를 받는 함수 sum()을 다음과 같은 조건을 참고하여 구현하시오\n",
    "\n",
    "- sum() 사용 예\n",
    "  - sum()\n",
    "    - 0\n",
    "  - sum(1, 2)\n",
    "    - 3\n",
    "  - sum(1, 2, 3, 4, 5)\n",
    "    - 15\n",
    "  - sum(1, 5, 7, 2, -10)\n",
    "    - 5"
   ]
  },
  {
   "cell_type": "code",
   "execution_count": 22,
   "metadata": {},
   "outputs": [
    {
     "name": "stdout",
     "output_type": "stream",
     "text": [
      "0\n",
      "3\n",
      "15\n",
      "5\n"
     ]
    }
   ],
   "source": [
    "import sys, os\n",
    "import math, cmath\n",
    "\n",
    "def sum(stmp=0, *arg):\n",
    "    result = stmp\n",
    "    \n",
    "    if(len(arg) > 0):\n",
    "        x = 0\n",
    "        while(x < len(arg)):\n",
    "            result += arg[x]\n",
    "            x = x+1\n",
    "        \n",
    "    return result\n",
    "\n",
    "print(sum())\n",
    "print(sum(1,2))\n",
    "print(sum(1,2,3,4,5))\n",
    "print(sum(1,5,7,2,-10))\n"
   ]
  },
  {
   "cell_type": "markdown",
   "metadata": {
    "collapsed": true
   },
   "source": [
    "[설명]\n",
    "가변인수 문제\n",
    " 받은 인자의 개수를 구해서, 반복문을 통해 입력된 인자를 모두 더한 값을 출력한다."
   ]
  },
  {
   "cell_type": "markdown",
   "metadata": {},
   "source": [
    "## [5번 문제]\n",
    "\n",
    "여러 단어로 이루어진 문자열을 입력받아 각 단어의 첫글자로 이루어진 단어를 대문자로 출력하는 myinitial() 함수를 다음 조건을 참고하여 작성하시오.\n",
    "\n",
    "- 1) 다음에 제시되는 함수들을 모두 이용해야 한다.\n",
    "  - split\n",
    "  - map\n",
    "  - join\n",
    "- 2) myinitial() 함수 사용 예\n",
    "  - myinitial(\"as soon as possible\")\n",
    "    - ASAP"
   ]
  },
  {
   "cell_type": "code",
   "execution_count": 3,
   "metadata": {},
   "outputs": [
    {
     "name": "stdout",
     "output_type": "stream",
     "text": [
      "ASAP\n"
     ]
    }
   ],
   "source": [
    "def myinitial(input_str):\n",
    "    result = input_str.split()\n",
    "    return ''.join(map(lambda x : x.capitalize()[0], result))\n",
    "    \n",
    "print(myinitial(\"as soon as possible\"))"
   ]
  },
  {
   "cell_type": "markdown",
   "metadata": {
    "collapsed": true
   },
   "source": [
    "[설명]\n",
    "\n",
    " 문자열을 매개변수로 받으면 split 함수를 이용하여 공백을 기준으로 리스트를 만든다. 그리고 각 리스트의 각 원소의 첫 문자를 captialize()을 이용하여 대문자로 만드는 것을 람다함수로 구현하되 각 앞자리만 출력될 수 있도록 출력 형태를 x.capitalize()[0]로 한다."
   ]
  },
  {
   "cell_type": "markdown",
   "metadata": {
    "collapsed": true
   },
   "source": [
    "## [6번 문제] \n",
    "\n",
    "음이 아닌 정수 n를 입력받으면 n! (factorial)을 계산하는 myfact() 함수를 재귀적 함수로 구현하시오.\n"
   ]
  },
  {
   "cell_type": "code",
   "execution_count": 5,
   "metadata": {},
   "outputs": [
    {
     "name": "stdout",
     "output_type": "stream",
     "text": [
      "120\n"
     ]
    }
   ],
   "source": [
    "def myfact(n):\n",
    "    if(n == 1):\n",
    "        return 1;\n",
    "    else:\n",
    "        return n * myfact(n-1)\n",
    "        \n",
    "print(myfact(5))"
   ]
  },
  {
   "cell_type": "markdown",
   "metadata": {
    "collapsed": true
   },
   "source": [
    "[설명]\n",
    " 재귀적으로 factorial함수를 구현하였고, 수식은 위와 같다. "
   ]
  },
  {
   "cell_type": "markdown",
   "metadata": {},
   "source": [
    "## [7번 문제] \n",
    "\n",
    "### (서술형) import string 과 from string import * 의 차이점을 설명하시오.\n",
    "\n",
    "- import string은 string이라는 모듈을 불러오는 가장 기본적인 방법이다. string.<함수명>()이라는 형태로 이름 공간이 존재하면서 자격 이름을 사용한다.\n",
    "- 반면 from string import *는 string이라는 모듈에 존재하는 __를 제외한 모든 이름들을 무자격 이름의 형태로 불러오는 방법이다. 모듈 이름을 따로 앞에 붙이지 않고 바로 함수 이름을 사용할 수 있다는 점에서 import string과 큰 차이가 있다."
   ]
  },
  {
   "cell_type": "markdown",
   "metadata": {},
   "source": [
    "## [8번 문제]\n",
    "\n",
    "#### [Incremental Project] \n",
    "\n",
    "이전 Assignment 3의 마지막 문제는 웹 URL로 지정된 웹페이지를 문자열로 가져와 모든 HTML 태그 및 CSS와 Javascript를 제외한 순수 텍스트를 얻어내고 그 안에 존재하는 단어를 추출하여 각 단어들에 대해 출현빈도를 사전형태({'world': 2, 'hello': 1, 'python': 1})로 저장하여 출력하는 것이었다. 이번에는 Assignment 3를 확장하여 다음과 같은 조건을 만족하도록 구현하시오.\n",
    "\n",
    "\n",
    "- 1) 다음 사이트에서 제시되는 영어 불용어 (Stop words)를 참고하여 이전 숙제에서 구성했던 단어 사전에서 영어 불용어들을 모두 제거하는 코드를 추가하시오.\n",
    "\n",
    "  - http://www.lextek.com/manuals/onix/stopwords1.html\n",
    "\n",
    "\n",
    "- 2) 각 URL로 지정된 웹페이지의 HTML 소스를 파일로 저장하시오.\n",
    "  - URL이 http://URL 이라면 파일명은 URL.html 이다.\n",
    "  - 예: URL이 http://www.cnn.com 이라면 파일명은 www.cnn.com.html 이다.\n",
    "\n",
    "- 3) 단어의 출현빈도가 담긴 사전 객체를 위 HTML 소스 파일과 동일한 폴더에 파일로 저장하시오.\n",
    "  - 파일입출력 (E-learning 13주차) 마지막에 학습한 pickle 모듈을 활용하시오.\n",
    "  - URL이 http://URL 이라면 사전 객체를 담고 있는 파일명은 URL.words.frequency 이다.\n",
    "  - 예: URL이 http://www.cnn.com 이라면 파일명은 www.cnn.com.words.frequency 이다.\n",
    "  \n",
    "\n",
    "- 4) 최소 5개 이상의 영어 웹 사이트 각각에 대한 HTML 소스 파일과 단어 출현빈도 파일을 저장하시오.\n",
    "  - 즉, 총 10개의 파일을 동일한 폴더에 생성하시오.\n",
    "  - [주의] 영어 웹사이트 URL로만 5개 이상 \n",
    "    - 가능하면 주제가 서로 다른 웹 사이트들로 선정\n",
    "\n",
    "\n",
    "- 5) 위 문제에서 저장한 모든 words.frequency 파일들을 객체로 다시 로드하여 본인이 저장하여 분석한 사이트들 각각에 대해서 가장 많이 출현한 단어 3개씩를 뽑아 제시하시오.\n",
    "  - 반드시 pickle 모듈로 저장한 5개 이상의 words.frequency를 다시 5개 이상의 사전 객체로 로드 하는 코드가 추가되어야 함\n",
    "\n",
    "- 6) 간단한 검색엔진 코딩 (Like Google!!!)\n",
    "  - 사용자에게 임의의 단어 1개를 입력받으시오.\n",
    "  - 입력 받은 단어와 유사도(Similarity)가 높은 웹 사이트 기준으로 위 4)에서 미리 지정해 놓은 5개 이상의 웹 사이트 URL들을 일렬로 나열하여 출력하시오.\n",
    "    - 단어와 웹 사이트 간의 유사도는 본인이 스스로 정하시오.\n",
    "      - 유사도를 정하는 최소한의 기준은 단어 출현 빈도를 기반으로 해야 하며, 이외의 본인이 생각하는 방안이 있으면 함께 사용해도 됨.\n",
    "      - 반드시 코딩 내에 similarity 라는 사전 자료 구조가 있어야 함 (즉, 다음과 유사한 코드가 있어야 함).\n",
    "\n",
    "\n",
    "        similarity = {}\n",
    "        ...\n",
    "        similarity[url1] = x1\n",
    "        ...\n",
    "        similarity[url2] = x2\n",
    "        ...\n",
    "        \n",
    "        \n",
    "    - 위 코드에서 x1 과 x2는 입력단어와 해당 URL의 웹 사이트 간의 similarity를 나타내는 수치값\n",
    "   - 유사도가 높은 웹 사이트가 상위에 출력되어야 함 (즉, 유사도 기준 내림 차순)\n",
    "     - 유사도가 동일한 웹 사이트들에 대해서는 임의 배치함.\n",
    "\n",
    "\n",
    "- 7) [주의] 필수사항\n",
    "  - 위에서 만든 검색엔진 코딩은 매우 간단한 것이라 부족한 점이 많이 존재한다.\n",
    "  - 본인이 생각하기에 상업적인 완성도 높은 검색 로봇/엔진이 되려면 어떤 기능들이 추가적으로 구현되어야 할지 최소 3가지 이상 제시하시오."
   ]
  },
  {
   "cell_type": "code",
   "execution_count": 2,
   "metadata": {
    "collapsed": true
   },
   "outputs": [],
   "source": [
    "stopword = [\"a\", \"about\",\"above\",\"across\",\"after\",\"again\",\"against\",\"all\",\"almost\",\"alone\",\"along\",\"already\",\"also\",\n",
    "\"although\",\"always\",\"among\",\"an\",\"and\",\"another\",\"any\",\"anybody\",\"anyone\",\"anything\",\"anywhere\",\"are\",\"area\",\"areas\",\n",
    "\"around\",\"as\",\"ask\",\"asked\",\"asking\",\"asks\",\"at\",\"away\",\"b\",\"back\",\"backed\",\"backing\",\"backs\",\"be\",\"became\",\"because\",\n",
    "\"become\",\"becomes\",\"been\",\"before\",\"began\",\"behind\",\"being\",\"beings\",\"best\",\"better\",\"between\",\"big\",\"both\",\"but\",\"by\",\n",
    "\"c\",\"came\",\"can\",\"cannot\",\"case\",\"cases\",\"certain\",\"certainly\",\"clear\",\"clearly\",\"come\",\"could\",\"d\",\"did\",\"differ\",\n",
    "\"different\",\"differently\",\"do\",\"does\",\"done\",\"down\",\"downed\",\"downing\",\"downs\",\"during\",\"e\",\"each\",\"early\",\n",
    "\"either\",\"end\",\"ended\",\"ending\",\"ends\",\"enough\",\"even\",\"evenly\",\"ever\",\"every\",\"everybody\",\"everyone\",\"everything\",\n",
    "\"everywhere\",\"f\",\"face\",\"faces\",\"fact\",\"facts\",\"far\",\"felt\",\"few\",\"find\",\"finds\",\"first\",\"for\",\"four\",\"from\",\"full\",\n",
    "\"fully\",\"further\",\"furthered\",\"furthering\",\"furthers\",\"g\",\"gave\",\"general\",\"generally\",\"get\",\"gets\",\"give\",\"given\",\n",
    "\"gives\",\"go\",\"going\",\"good\",\"goods\",\"got\",\"great\",\"greater\",\"greatest\",\"group\",\"grouped\",\"grouping\",\"groups\",\"h\",\"had\",\n",
    "\"has\",\"have\",\"having\",\"he\",\"her\",\"here\",\"herself\",\"high\",\"high\",\"high\",\"higher\",\"highest\",\"him\",\"himself\",\"his\",\"how\",\n",
    "\"however\",\"i\",\"if\",\"important\",\"in\",\"interest\",\"interested\",\"interesting\",\"interests\",\"into\",\"is\",\"it\",\"its\",\"itself\",\n",
    "\"j\",\"just\",\"k\",\"keep\",\"keeps\",\"kind\",\"knew\",\"know\",\"known\",\"knows\",\"l\",\"large\",\"largely\",\"last\",\"later\",\"latest\",\"least\",\n",
    "\"less\",\"let\",\"lets\",\"like\",\"likely\",\"long\",\"longer\",\"longest\",\"m\",\"made\",\"make\",\"making\",\"man\",\"many\",\"may\",\"me\",\"member\"\n",
    "\"members\",\"men\",\"might\",\"more\",\"most\",\"mostly\",\"mr\",\"mrs\",\"much\",\"must\",\"my\",\"myself\",\"n\",\"necessary\",\"need\",\"needed\",\n",
    "\"needing\",\"needs\",\"never\",\"new\",\"newer\",\"newest\",\"next\",\"no\",\"nobody\",\"non\",\"noone\",\"not\",\"nothing\",\"now\",\n",
    "\"nowhere\",\"number\",\"numbers\",\"o\",\"of\",\"off\",\"often\",\"old\",\"older\",\"oldest\",\"on\",\"once\",\"one\",\"only\",\"open\",\"opened\",\n",
    "\"opening\",\"opens\",\"or\",\"order\",\"ordered\",\"ordering\",\"orders\",\"other\",\"others\",\"our\",\"out\",\"over\",\"p\",\"part\",\"parted\",\n",
    "\"parting\",\"parts\",\"per\",\"perhaps\",\"place\",\"places\",\"point\",\"pointed\",\"pointing\",\"points\",\"possible\",\"present\",\"presented\",\n",
    "\"presenting\",\"presents\",\"problem\",\"problems\",\"put\",\"puts\",\"q\",\"quite\",\"r\",\"rather\",\"really\",\"right\",\"room\",\n",
    "\"rooms\",\"s\",\"said\",\"same\",\"saw\",\"say\",\"says\",\"second\",\"seconds\",\"see\",\"seem\",\"seemed\",\"seeming\",\"seems\",\"sees\",\"several\",\n",
    "\"shall\",\"she\",\"should\",\"show\",\"showed\",\"showing\",\"shows\",\"side\",\"sides\",\"since\",\"small\",\"smaller\",\"smallest\",\"so\",\"some\",\n",
    "\"somebody\",\"someone\",\"something\",\"somewhere\",\"state\",\"states\",\"still\",\"such\",\"sure\",\"t\",\"take\",\"taken\",\"than\",\n",
    "\"that\",\"the\",\"their\",\"them\",\"then\",\"there\",\"therefore\",\"these\",\"they\",\"thing\",\"things\",\"think\",\"thinks\",\"this\",\"those\",\n",
    "\"though\",\"thought\",\"thoughts\",\"three\",\"through\",\"thus\",\"to\",\"today\",\"together\",\"too\",\"took\",\"toward\",\"turn\",\"turned\",\n",
    "\"turning\",\"turns\",\"two\",\"u\",\"under\",\"until\",\"up\",\"upon\",\"us\",\"use\",\"used\",\"uses\",\"v\",\"very\",\"w\",\"want\",\"wanted\",\n",
    "\"wanting\",\"wants\",\"was\",\"way\",\"ways\",\"we\",\"well\",\"wells\",\"went\",\"were\",\"what\",\"when\",\"where\",\"whether\",\"which\",\"while\",\n",
    "\"who\",\"whole\",\"whose\",\"why\",\"will\",\"with\",\"within\",\"without\",\"work\",\"worked\",\"working\",\"works\",\"would\",\"x\",\"y\",\"year\",\n",
    "\"years\",\"yet\",\"you\",\"young\",\"younger\",\"youngest\",\"your\",\"yours\",\"z\"]"
   ]
  },
  {
   "cell_type": "code",
   "execution_count": 6,
   "metadata": {},
   "outputs": [
    {
     "ename": "HTTPError",
     "evalue": "HTTP Error 503: Service Unavailable",
     "output_type": "error",
     "traceback": [
      "\u001b[1;31m---------------------------------------------------------------------------\u001b[0m",
      "\u001b[1;31mHTTPError\u001b[0m                                 Traceback (most recent call last)",
      "\u001b[1;32m<ipython-input-6-b4ac4bc34c46>\u001b[0m in \u001b[0;36m<module>\u001b[1;34m()\u001b[0m\n\u001b[0;32m     66\u001b[0m \u001b[1;33m\u001b[0m\u001b[0m\n\u001b[0;32m     67\u001b[0m \u001b[1;32mfor\u001b[0m \u001b[0murls\u001b[0m \u001b[1;32min\u001b[0m \u001b[0murlList\u001b[0m\u001b[1;33m:\u001b[0m\u001b[1;33m\u001b[0m\u001b[0m\n\u001b[1;32m---> 68\u001b[1;33m     \u001b[0mparsingUrl\u001b[0m\u001b[1;33m(\u001b[0m\u001b[0murls\u001b[0m\u001b[1;33m)\u001b[0m\u001b[1;33m\u001b[0m\u001b[0m\n\u001b[0m\u001b[0;32m     69\u001b[0m \u001b[1;33m\u001b[0m\u001b[0m\n\u001b[0;32m     70\u001b[0m \u001b[1;33m\u001b[0m\u001b[0m\n",
      "\u001b[1;32m<ipython-input-6-b4ac4bc34c46>\u001b[0m in \u001b[0;36mparsingUrl\u001b[1;34m(url)\u001b[0m\n\u001b[0;32m      7\u001b[0m \u001b[1;33m\u001b[0m\u001b[0m\n\u001b[0;32m      8\u001b[0m \u001b[1;32mdef\u001b[0m \u001b[0mparsingUrl\u001b[0m\u001b[1;33m(\u001b[0m\u001b[0murl\u001b[0m\u001b[1;33m)\u001b[0m\u001b[1;33m:\u001b[0m\u001b[1;33m\u001b[0m\u001b[0m\n\u001b[1;32m----> 9\u001b[1;33m     \u001b[0ms\u001b[0m \u001b[1;33m=\u001b[0m \u001b[0murllib\u001b[0m\u001b[1;33m.\u001b[0m\u001b[0mrequest\u001b[0m\u001b[1;33m.\u001b[0m\u001b[0murlopen\u001b[0m\u001b[1;33m(\u001b[0m\u001b[0murl\u001b[0m\u001b[1;33m)\u001b[0m\u001b[1;33m\u001b[0m\u001b[0m\n\u001b[0m\u001b[0;32m     10\u001b[0m     \u001b[0msource_bytes\u001b[0m \u001b[1;33m=\u001b[0m \u001b[0ms\u001b[0m\u001b[1;33m.\u001b[0m\u001b[0mread\u001b[0m\u001b[1;33m(\u001b[0m\u001b[1;33m)\u001b[0m\u001b[1;33m\u001b[0m\u001b[0m\n\u001b[0;32m     11\u001b[0m     \u001b[0ms\u001b[0m \u001b[1;33m=\u001b[0m \u001b[0msource_bytes\u001b[0m\u001b[1;33m.\u001b[0m\u001b[0mdecode\u001b[0m\u001b[1;33m(\u001b[0m\u001b[1;34m'utf-8'\u001b[0m\u001b[1;33m)\u001b[0m\u001b[1;33m\u001b[0m\u001b[0m\n",
      "\u001b[1;32mC:\\ProgramData\\Anaconda3\\lib\\urllib\\request.py\u001b[0m in \u001b[0;36murlopen\u001b[1;34m(url, data, timeout, cafile, capath, cadefault, context)\u001b[0m\n\u001b[0;32m    221\u001b[0m     \u001b[1;32melse\u001b[0m\u001b[1;33m:\u001b[0m\u001b[1;33m\u001b[0m\u001b[0m\n\u001b[0;32m    222\u001b[0m         \u001b[0mopener\u001b[0m \u001b[1;33m=\u001b[0m \u001b[0m_opener\u001b[0m\u001b[1;33m\u001b[0m\u001b[0m\n\u001b[1;32m--> 223\u001b[1;33m     \u001b[1;32mreturn\u001b[0m \u001b[0mopener\u001b[0m\u001b[1;33m.\u001b[0m\u001b[0mopen\u001b[0m\u001b[1;33m(\u001b[0m\u001b[0murl\u001b[0m\u001b[1;33m,\u001b[0m \u001b[0mdata\u001b[0m\u001b[1;33m,\u001b[0m \u001b[0mtimeout\u001b[0m\u001b[1;33m)\u001b[0m\u001b[1;33m\u001b[0m\u001b[0m\n\u001b[0m\u001b[0;32m    224\u001b[0m \u001b[1;33m\u001b[0m\u001b[0m\n\u001b[0;32m    225\u001b[0m \u001b[1;32mdef\u001b[0m \u001b[0minstall_opener\u001b[0m\u001b[1;33m(\u001b[0m\u001b[0mopener\u001b[0m\u001b[1;33m)\u001b[0m\u001b[1;33m:\u001b[0m\u001b[1;33m\u001b[0m\u001b[0m\n",
      "\u001b[1;32mC:\\ProgramData\\Anaconda3\\lib\\urllib\\request.py\u001b[0m in \u001b[0;36mopen\u001b[1;34m(self, fullurl, data, timeout)\u001b[0m\n\u001b[0;32m    530\u001b[0m         \u001b[1;32mfor\u001b[0m \u001b[0mprocessor\u001b[0m \u001b[1;32min\u001b[0m \u001b[0mself\u001b[0m\u001b[1;33m.\u001b[0m\u001b[0mprocess_response\u001b[0m\u001b[1;33m.\u001b[0m\u001b[0mget\u001b[0m\u001b[1;33m(\u001b[0m\u001b[0mprotocol\u001b[0m\u001b[1;33m,\u001b[0m \u001b[1;33m[\u001b[0m\u001b[1;33m]\u001b[0m\u001b[1;33m)\u001b[0m\u001b[1;33m:\u001b[0m\u001b[1;33m\u001b[0m\u001b[0m\n\u001b[0;32m    531\u001b[0m             \u001b[0mmeth\u001b[0m \u001b[1;33m=\u001b[0m \u001b[0mgetattr\u001b[0m\u001b[1;33m(\u001b[0m\u001b[0mprocessor\u001b[0m\u001b[1;33m,\u001b[0m \u001b[0mmeth_name\u001b[0m\u001b[1;33m)\u001b[0m\u001b[1;33m\u001b[0m\u001b[0m\n\u001b[1;32m--> 532\u001b[1;33m             \u001b[0mresponse\u001b[0m \u001b[1;33m=\u001b[0m \u001b[0mmeth\u001b[0m\u001b[1;33m(\u001b[0m\u001b[0mreq\u001b[0m\u001b[1;33m,\u001b[0m \u001b[0mresponse\u001b[0m\u001b[1;33m)\u001b[0m\u001b[1;33m\u001b[0m\u001b[0m\n\u001b[0m\u001b[0;32m    533\u001b[0m \u001b[1;33m\u001b[0m\u001b[0m\n\u001b[0;32m    534\u001b[0m         \u001b[1;32mreturn\u001b[0m \u001b[0mresponse\u001b[0m\u001b[1;33m\u001b[0m\u001b[0m\n",
      "\u001b[1;32mC:\\ProgramData\\Anaconda3\\lib\\urllib\\request.py\u001b[0m in \u001b[0;36mhttp_response\u001b[1;34m(self, request, response)\u001b[0m\n\u001b[0;32m    640\u001b[0m         \u001b[1;32mif\u001b[0m \u001b[1;32mnot\u001b[0m \u001b[1;33m(\u001b[0m\u001b[1;36m200\u001b[0m \u001b[1;33m<=\u001b[0m \u001b[0mcode\u001b[0m \u001b[1;33m<\u001b[0m \u001b[1;36m300\u001b[0m\u001b[1;33m)\u001b[0m\u001b[1;33m:\u001b[0m\u001b[1;33m\u001b[0m\u001b[0m\n\u001b[0;32m    641\u001b[0m             response = self.parent.error(\n\u001b[1;32m--> 642\u001b[1;33m                 'http', request, response, code, msg, hdrs)\n\u001b[0m\u001b[0;32m    643\u001b[0m \u001b[1;33m\u001b[0m\u001b[0m\n\u001b[0;32m    644\u001b[0m         \u001b[1;32mreturn\u001b[0m \u001b[0mresponse\u001b[0m\u001b[1;33m\u001b[0m\u001b[0m\n",
      "\u001b[1;32mC:\\ProgramData\\Anaconda3\\lib\\urllib\\request.py\u001b[0m in \u001b[0;36merror\u001b[1;34m(self, proto, *args)\u001b[0m\n\u001b[0;32m    562\u001b[0m             \u001b[0mhttp_err\u001b[0m \u001b[1;33m=\u001b[0m \u001b[1;36m0\u001b[0m\u001b[1;33m\u001b[0m\u001b[0m\n\u001b[0;32m    563\u001b[0m         \u001b[0margs\u001b[0m \u001b[1;33m=\u001b[0m \u001b[1;33m(\u001b[0m\u001b[0mdict\u001b[0m\u001b[1;33m,\u001b[0m \u001b[0mproto\u001b[0m\u001b[1;33m,\u001b[0m \u001b[0mmeth_name\u001b[0m\u001b[1;33m)\u001b[0m \u001b[1;33m+\u001b[0m \u001b[0margs\u001b[0m\u001b[1;33m\u001b[0m\u001b[0m\n\u001b[1;32m--> 564\u001b[1;33m         \u001b[0mresult\u001b[0m \u001b[1;33m=\u001b[0m \u001b[0mself\u001b[0m\u001b[1;33m.\u001b[0m\u001b[0m_call_chain\u001b[0m\u001b[1;33m(\u001b[0m\u001b[1;33m*\u001b[0m\u001b[0margs\u001b[0m\u001b[1;33m)\u001b[0m\u001b[1;33m\u001b[0m\u001b[0m\n\u001b[0m\u001b[0;32m    565\u001b[0m         \u001b[1;32mif\u001b[0m \u001b[0mresult\u001b[0m\u001b[1;33m:\u001b[0m\u001b[1;33m\u001b[0m\u001b[0m\n\u001b[0;32m    566\u001b[0m             \u001b[1;32mreturn\u001b[0m \u001b[0mresult\u001b[0m\u001b[1;33m\u001b[0m\u001b[0m\n",
      "\u001b[1;32mC:\\ProgramData\\Anaconda3\\lib\\urllib\\request.py\u001b[0m in \u001b[0;36m_call_chain\u001b[1;34m(self, chain, kind, meth_name, *args)\u001b[0m\n\u001b[0;32m    502\u001b[0m         \u001b[1;32mfor\u001b[0m \u001b[0mhandler\u001b[0m \u001b[1;32min\u001b[0m \u001b[0mhandlers\u001b[0m\u001b[1;33m:\u001b[0m\u001b[1;33m\u001b[0m\u001b[0m\n\u001b[0;32m    503\u001b[0m             \u001b[0mfunc\u001b[0m \u001b[1;33m=\u001b[0m \u001b[0mgetattr\u001b[0m\u001b[1;33m(\u001b[0m\u001b[0mhandler\u001b[0m\u001b[1;33m,\u001b[0m \u001b[0mmeth_name\u001b[0m\u001b[1;33m)\u001b[0m\u001b[1;33m\u001b[0m\u001b[0m\n\u001b[1;32m--> 504\u001b[1;33m             \u001b[0mresult\u001b[0m \u001b[1;33m=\u001b[0m \u001b[0mfunc\u001b[0m\u001b[1;33m(\u001b[0m\u001b[1;33m*\u001b[0m\u001b[0margs\u001b[0m\u001b[1;33m)\u001b[0m\u001b[1;33m\u001b[0m\u001b[0m\n\u001b[0m\u001b[0;32m    505\u001b[0m             \u001b[1;32mif\u001b[0m \u001b[0mresult\u001b[0m \u001b[1;32mis\u001b[0m \u001b[1;32mnot\u001b[0m \u001b[1;32mNone\u001b[0m\u001b[1;33m:\u001b[0m\u001b[1;33m\u001b[0m\u001b[0m\n\u001b[0;32m    506\u001b[0m                 \u001b[1;32mreturn\u001b[0m \u001b[0mresult\u001b[0m\u001b[1;33m\u001b[0m\u001b[0m\n",
      "\u001b[1;32mC:\\ProgramData\\Anaconda3\\lib\\urllib\\request.py\u001b[0m in \u001b[0;36mhttp_error_302\u001b[1;34m(self, req, fp, code, msg, headers)\u001b[0m\n\u001b[0;32m    754\u001b[0m         \u001b[0mfp\u001b[0m\u001b[1;33m.\u001b[0m\u001b[0mclose\u001b[0m\u001b[1;33m(\u001b[0m\u001b[1;33m)\u001b[0m\u001b[1;33m\u001b[0m\u001b[0m\n\u001b[0;32m    755\u001b[0m \u001b[1;33m\u001b[0m\u001b[0m\n\u001b[1;32m--> 756\u001b[1;33m         \u001b[1;32mreturn\u001b[0m \u001b[0mself\u001b[0m\u001b[1;33m.\u001b[0m\u001b[0mparent\u001b[0m\u001b[1;33m.\u001b[0m\u001b[0mopen\u001b[0m\u001b[1;33m(\u001b[0m\u001b[0mnew\u001b[0m\u001b[1;33m,\u001b[0m \u001b[0mtimeout\u001b[0m\u001b[1;33m=\u001b[0m\u001b[0mreq\u001b[0m\u001b[1;33m.\u001b[0m\u001b[0mtimeout\u001b[0m\u001b[1;33m)\u001b[0m\u001b[1;33m\u001b[0m\u001b[0m\n\u001b[0m\u001b[0;32m    757\u001b[0m \u001b[1;33m\u001b[0m\u001b[0m\n\u001b[0;32m    758\u001b[0m     \u001b[0mhttp_error_301\u001b[0m \u001b[1;33m=\u001b[0m \u001b[0mhttp_error_303\u001b[0m \u001b[1;33m=\u001b[0m \u001b[0mhttp_error_307\u001b[0m \u001b[1;33m=\u001b[0m \u001b[0mhttp_error_302\u001b[0m\u001b[1;33m\u001b[0m\u001b[0m\n",
      "\u001b[1;32mC:\\ProgramData\\Anaconda3\\lib\\urllib\\request.py\u001b[0m in \u001b[0;36mopen\u001b[1;34m(self, fullurl, data, timeout)\u001b[0m\n\u001b[0;32m    530\u001b[0m         \u001b[1;32mfor\u001b[0m \u001b[0mprocessor\u001b[0m \u001b[1;32min\u001b[0m \u001b[0mself\u001b[0m\u001b[1;33m.\u001b[0m\u001b[0mprocess_response\u001b[0m\u001b[1;33m.\u001b[0m\u001b[0mget\u001b[0m\u001b[1;33m(\u001b[0m\u001b[0mprotocol\u001b[0m\u001b[1;33m,\u001b[0m \u001b[1;33m[\u001b[0m\u001b[1;33m]\u001b[0m\u001b[1;33m)\u001b[0m\u001b[1;33m:\u001b[0m\u001b[1;33m\u001b[0m\u001b[0m\n\u001b[0;32m    531\u001b[0m             \u001b[0mmeth\u001b[0m \u001b[1;33m=\u001b[0m \u001b[0mgetattr\u001b[0m\u001b[1;33m(\u001b[0m\u001b[0mprocessor\u001b[0m\u001b[1;33m,\u001b[0m \u001b[0mmeth_name\u001b[0m\u001b[1;33m)\u001b[0m\u001b[1;33m\u001b[0m\u001b[0m\n\u001b[1;32m--> 532\u001b[1;33m             \u001b[0mresponse\u001b[0m \u001b[1;33m=\u001b[0m \u001b[0mmeth\u001b[0m\u001b[1;33m(\u001b[0m\u001b[0mreq\u001b[0m\u001b[1;33m,\u001b[0m \u001b[0mresponse\u001b[0m\u001b[1;33m)\u001b[0m\u001b[1;33m\u001b[0m\u001b[0m\n\u001b[0m\u001b[0;32m    533\u001b[0m \u001b[1;33m\u001b[0m\u001b[0m\n\u001b[0;32m    534\u001b[0m         \u001b[1;32mreturn\u001b[0m \u001b[0mresponse\u001b[0m\u001b[1;33m\u001b[0m\u001b[0m\n",
      "\u001b[1;32mC:\\ProgramData\\Anaconda3\\lib\\urllib\\request.py\u001b[0m in \u001b[0;36mhttp_response\u001b[1;34m(self, request, response)\u001b[0m\n\u001b[0;32m    640\u001b[0m         \u001b[1;32mif\u001b[0m \u001b[1;32mnot\u001b[0m \u001b[1;33m(\u001b[0m\u001b[1;36m200\u001b[0m \u001b[1;33m<=\u001b[0m \u001b[0mcode\u001b[0m \u001b[1;33m<\u001b[0m \u001b[1;36m300\u001b[0m\u001b[1;33m)\u001b[0m\u001b[1;33m:\u001b[0m\u001b[1;33m\u001b[0m\u001b[0m\n\u001b[0;32m    641\u001b[0m             response = self.parent.error(\n\u001b[1;32m--> 642\u001b[1;33m                 'http', request, response, code, msg, hdrs)\n\u001b[0m\u001b[0;32m    643\u001b[0m \u001b[1;33m\u001b[0m\u001b[0m\n\u001b[0;32m    644\u001b[0m         \u001b[1;32mreturn\u001b[0m \u001b[0mresponse\u001b[0m\u001b[1;33m\u001b[0m\u001b[0m\n",
      "\u001b[1;32mC:\\ProgramData\\Anaconda3\\lib\\urllib\\request.py\u001b[0m in \u001b[0;36merror\u001b[1;34m(self, proto, *args)\u001b[0m\n\u001b[0;32m    568\u001b[0m         \u001b[1;32mif\u001b[0m \u001b[0mhttp_err\u001b[0m\u001b[1;33m:\u001b[0m\u001b[1;33m\u001b[0m\u001b[0m\n\u001b[0;32m    569\u001b[0m             \u001b[0margs\u001b[0m \u001b[1;33m=\u001b[0m \u001b[1;33m(\u001b[0m\u001b[0mdict\u001b[0m\u001b[1;33m,\u001b[0m \u001b[1;34m'default'\u001b[0m\u001b[1;33m,\u001b[0m \u001b[1;34m'http_error_default'\u001b[0m\u001b[1;33m)\u001b[0m \u001b[1;33m+\u001b[0m \u001b[0morig_args\u001b[0m\u001b[1;33m\u001b[0m\u001b[0m\n\u001b[1;32m--> 570\u001b[1;33m             \u001b[1;32mreturn\u001b[0m \u001b[0mself\u001b[0m\u001b[1;33m.\u001b[0m\u001b[0m_call_chain\u001b[0m\u001b[1;33m(\u001b[0m\u001b[1;33m*\u001b[0m\u001b[0margs\u001b[0m\u001b[1;33m)\u001b[0m\u001b[1;33m\u001b[0m\u001b[0m\n\u001b[0m\u001b[0;32m    571\u001b[0m \u001b[1;33m\u001b[0m\u001b[0m\n\u001b[0;32m    572\u001b[0m \u001b[1;31m# XXX probably also want an abstract factory that knows when it makes\u001b[0m\u001b[1;33m\u001b[0m\u001b[1;33m\u001b[0m\u001b[0m\n",
      "\u001b[1;32mC:\\ProgramData\\Anaconda3\\lib\\urllib\\request.py\u001b[0m in \u001b[0;36m_call_chain\u001b[1;34m(self, chain, kind, meth_name, *args)\u001b[0m\n\u001b[0;32m    502\u001b[0m         \u001b[1;32mfor\u001b[0m \u001b[0mhandler\u001b[0m \u001b[1;32min\u001b[0m \u001b[0mhandlers\u001b[0m\u001b[1;33m:\u001b[0m\u001b[1;33m\u001b[0m\u001b[0m\n\u001b[0;32m    503\u001b[0m             \u001b[0mfunc\u001b[0m \u001b[1;33m=\u001b[0m \u001b[0mgetattr\u001b[0m\u001b[1;33m(\u001b[0m\u001b[0mhandler\u001b[0m\u001b[1;33m,\u001b[0m \u001b[0mmeth_name\u001b[0m\u001b[1;33m)\u001b[0m\u001b[1;33m\u001b[0m\u001b[0m\n\u001b[1;32m--> 504\u001b[1;33m             \u001b[0mresult\u001b[0m \u001b[1;33m=\u001b[0m \u001b[0mfunc\u001b[0m\u001b[1;33m(\u001b[0m\u001b[1;33m*\u001b[0m\u001b[0margs\u001b[0m\u001b[1;33m)\u001b[0m\u001b[1;33m\u001b[0m\u001b[0m\n\u001b[0m\u001b[0;32m    505\u001b[0m             \u001b[1;32mif\u001b[0m \u001b[0mresult\u001b[0m \u001b[1;32mis\u001b[0m \u001b[1;32mnot\u001b[0m \u001b[1;32mNone\u001b[0m\u001b[1;33m:\u001b[0m\u001b[1;33m\u001b[0m\u001b[0m\n\u001b[0;32m    506\u001b[0m                 \u001b[1;32mreturn\u001b[0m \u001b[0mresult\u001b[0m\u001b[1;33m\u001b[0m\u001b[0m\n",
      "\u001b[1;32mC:\\ProgramData\\Anaconda3\\lib\\urllib\\request.py\u001b[0m in \u001b[0;36mhttp_error_default\u001b[1;34m(self, req, fp, code, msg, hdrs)\u001b[0m\n\u001b[0;32m    648\u001b[0m \u001b[1;32mclass\u001b[0m \u001b[0mHTTPDefaultErrorHandler\u001b[0m\u001b[1;33m(\u001b[0m\u001b[0mBaseHandler\u001b[0m\u001b[1;33m)\u001b[0m\u001b[1;33m:\u001b[0m\u001b[1;33m\u001b[0m\u001b[0m\n\u001b[0;32m    649\u001b[0m     \u001b[1;32mdef\u001b[0m \u001b[0mhttp_error_default\u001b[0m\u001b[1;33m(\u001b[0m\u001b[0mself\u001b[0m\u001b[1;33m,\u001b[0m \u001b[0mreq\u001b[0m\u001b[1;33m,\u001b[0m \u001b[0mfp\u001b[0m\u001b[1;33m,\u001b[0m \u001b[0mcode\u001b[0m\u001b[1;33m,\u001b[0m \u001b[0mmsg\u001b[0m\u001b[1;33m,\u001b[0m \u001b[0mhdrs\u001b[0m\u001b[1;33m)\u001b[0m\u001b[1;33m:\u001b[0m\u001b[1;33m\u001b[0m\u001b[0m\n\u001b[1;32m--> 650\u001b[1;33m         \u001b[1;32mraise\u001b[0m \u001b[0mHTTPError\u001b[0m\u001b[1;33m(\u001b[0m\u001b[0mreq\u001b[0m\u001b[1;33m.\u001b[0m\u001b[0mfull_url\u001b[0m\u001b[1;33m,\u001b[0m \u001b[0mcode\u001b[0m\u001b[1;33m,\u001b[0m \u001b[0mmsg\u001b[0m\u001b[1;33m,\u001b[0m \u001b[0mhdrs\u001b[0m\u001b[1;33m,\u001b[0m \u001b[0mfp\u001b[0m\u001b[1;33m)\u001b[0m\u001b[1;33m\u001b[0m\u001b[0m\n\u001b[0m\u001b[0;32m    651\u001b[0m \u001b[1;33m\u001b[0m\u001b[0m\n\u001b[0;32m    652\u001b[0m \u001b[1;32mclass\u001b[0m \u001b[0mHTTPRedirectHandler\u001b[0m\u001b[1;33m(\u001b[0m\u001b[0mBaseHandler\u001b[0m\u001b[1;33m)\u001b[0m\u001b[1;33m:\u001b[0m\u001b[1;33m\u001b[0m\u001b[0m\n",
      "\u001b[1;31mHTTPError\u001b[0m: HTTP Error 503: Service Unavailable"
     ]
    }
   ],
   "source": [
    "import sys, os, urllib, string, pickle\n",
    "from urllib import request \n",
    "from urllib.parse import urlparse\n",
    "from http.cookiejar import CookieJar\n",
    "\n",
    "urlList = {\"http://www.cnn.com\", \"http://www.nytimes.com\", \"http://www.yeah.com/\", \"http://www.programcreek.com/\", \"http://www.amazon.fr/\"}\n",
    "\n",
    "def parsingUrl(url):\n",
    "    s = urllib.request.urlopen(url)\n",
    "    source_bytes = s.read()\n",
    "    s = source_bytes.decode('utf-8')\n",
    "    \n",
    "    htmlFile = open(url[7:]+\".html\", \"w\")\n",
    "    htmlFile.write(s)\n",
    "    htmlFile.close()\n",
    "\n",
    "    n = 0\n",
    "    pivot = 0\n",
    "    while(n < len(s)):\n",
    "        if(s[n] == \"<\" and s[n + 1 : n + 7].lower() == \"script\"):\n",
    "            pivot = n\n",
    "            while(s[pivot] != \"<\" or s[pivot + 1] != \"/\" or s[pivot + 2 : pivot + 8].lower() != \"script\"):\n",
    "                pivot += 1\n",
    "            s = s[0:n] + ' ' + s[pivot+9:]\n",
    "    \n",
    "        elif(s[n] == \"<\" and s[n + 1 : n + 6].lower() == \"style\"):\n",
    "            pivot = n\n",
    "            while(s[pivot] != \"<\" or s[pivot + 1] != \"/\" or s[pivot + 2 : pivot + 7].lower() != \"style\"):\n",
    "                pivot += 1\n",
    "            s = s[0:n] + ' ' + s[pivot+8:]\n",
    "\n",
    "        elif(s[n] == '<'):\n",
    "            pivot = n\n",
    "            while(s[pivot] != '>'):\n",
    "                pivot += 1\n",
    "            s = s[0:n] + ' ' + s[pivot+1:]\n",
    "        elif(s[n] == '\\n' or s[n] == '\\t'):\n",
    "            s = s[0:n] + ' ' + s[n+1:]\n",
    "        elif(s[n] in string.punctuation):\n",
    "            s = s[0:n] + s[n+1:]\n",
    "        else:\n",
    "            n += 1\n",
    "\n",
    "    s2 = s.split()\n",
    "    s3 = ' '.join(s2)\n",
    "    n = 0\n",
    "    D = {}\n",
    "    i = 0\n",
    "    \n",
    "    while(n < len(s2)):\n",
    "        while(i < len(stopword)):\n",
    "            if(s2[n] == stopword[i]):\n",
    "                s2.remove(s2[n])\n",
    "            i = i+1\n",
    "        n = n+1\n",
    "    \n",
    "    while(n < len(s2)):\n",
    "        if(s2[n] in D.keys()):\n",
    "            D[s2[n]] += 1\n",
    "        else:\n",
    "            D[s2[n]] = 1\n",
    "        n += 1\n",
    "\n",
    "    freqFile = open(url[7:]+\".words.frequency\", \"w\")\n",
    "    pickle.dump(D, freqFile)\n",
    "\n",
    "for urls in urlList:\n",
    "    parsingUrl(urls)\n",
    "    \n",
    "    \n",
    "# 위 문제에서 저장한 모든 words.frequency 파일들을 로드하여 본인이\n",
    "#저장하여 분석한 사이트들에서 가장 많이 출현한 단어를 뽑아 제시\n",
    "\n",
    "maxValues = 0\n",
    "maxKeys = ' '\n",
    "maxUrls = ' '\n",
    "\n",
    "totalDict = {}\n",
    "\n",
    "for urls in urlList:\n",
    "    freqFile = open(urls[7:] + \".words.frequency\")\n",
    "    D = pickle.load(freqFile)\n",
    "    keys = totalDict.keys()\n",
    "    for key, value in D.items():\n",
    "        if(key in keys):\n",
    "            totalDict[key] += value\n",
    "        else:\n",
    "            totalDict[key] = value\n",
    "\n",
    "for key, value in totalDict.items():\n",
    "    if(maxValues < value):\n",
    "        maxValues = value\n",
    "        maxKeys = [key]\n",
    "    elif(maxValues == value):\n",
    "        maxKeys.append(key)\n",
    "\n",
    "print(\"The max of frequency key is\",)\n",
    "for s in maxKeys:\n",
    "    print(s,)\n",
    "\n",
    "print(':', maxValues)\n",
    "print(\"in\", urlList)"
   ]
  },
  {
   "cell_type": "markdown",
   "metadata": {
    "collapsed": true
   },
   "source": [
    "[설명]\n",
    "\n",
    " 지난 과제에서 요구한 결과에 파일 입출력이라는 것이 추가되었는데, 문제의 요구사항에 맞추어 url의 html소스를 html파일로 저장하고, 단어 빈도가 사전형태로 저장되도록 pickle 기능을 활용하여 word.frquency를 url이름 뒤에 붙인 파일명으로 저장할 것이다. 복수의 url을 받기 때문에 단일 url의 html소스코드와 빈도수를 파일로 저장하는 코드를 함수로 묶고, url을 리스트에 저장하여 반복문으로 함수에 넣어서 출력할 것이다.\n",
    " 그러나 계속 HTTP Error Service Unavailable 에러가 발생하는데 제출까지 해결이 되지 않았다. 자세한 원인을 알지 못하겠다.\n",
    "\n",
    " 검색엔진을 제외한 부분을 코딩해보았다. 그러나 python 버전이 바뀌어 새로운 예제를 찾기 어렵고, return 타입이나, 매개변수 형태가 바뀌어 해결하기가 쉽지 않다.\n",
    " "
   ]
  },
  {
   "cell_type": "markdown",
   "metadata": {
    "collapsed": true
   },
   "source": [
    "[소감]\n",
    "\n",
    " 이번 과제는 교수님께서 시간을 더 넉넉하게 주셨는데, 생각부터 문제를 해결하기가 쉽지 않았다. 특히, 문제 2번에서는 암호화하고 암호화된 비밀번호와 입력받은 비밀번호 비교를 하는걸 찾기가 쉽지 않았고, python 버전이 점점 바뀌다보니 예제나 문제 해결방법을 찾기가 힘들었다."
   ]
  }
 ],
 "metadata": {
  "kernelspec": {
   "display_name": "Python 3",
   "language": "python",
   "name": "python3"
  },
  "language_info": {
   "codemirror_mode": {
    "name": "ipython",
    "version": 3
   },
   "file_extension": ".py",
   "mimetype": "text/x-python",
   "name": "python",
   "nbconvert_exporter": "python",
   "pygments_lexer": "ipython3",
   "version": "3.6.1"
  }
 },
 "nbformat": 4,
 "nbformat_minor": 2
}
