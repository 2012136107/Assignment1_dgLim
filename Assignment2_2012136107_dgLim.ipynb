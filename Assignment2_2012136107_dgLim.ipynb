{
 "cells": [
  {
   "cell_type": "markdown",
   "metadata": {},
   "source": [
    "## 과제\n",
    "### 문제 1\n",
    "- 다음 6개의 Expressing에 대해 Evaluation  결과 값을 출력하고, 해당 결과가 나온 이유에 대해서 설명하시오\n",
    "  - 1 and 2 and 3 and 4\n",
    "  - 1 or 2 or 3 or 4\n",
    "  - 1 and 2 or 3 and 4\n",
    "  - (1 and 2) or (3 and 4)\n",
    "  - 1 or 2 and 3 or 4\n",
    "  - (1 or 2) and (3 or 4)"
   ]
  },
  {
   "cell_type": "code",
   "execution_count": 5,
   "metadata": {},
   "outputs": [
    {
     "name": "stdout",
     "output_type": "stream",
     "text": [
      "4\n",
      "1\n",
      "2\n",
      "2\n",
      "1\n",
      "3\n"
     ]
    }
   ],
   "source": [
    "print(1 and 2 and 3 and 4)\n",
    "print(1 or 2 or 3 or 4)\n",
    "print(1 and 2 or 3 and 4)\n",
    "print((1 and 2) or (3 and 4))\n",
    "print(1 or 2 and 3 or 4)\n",
    "print((1 or 2) and (3 or 4))"
   ]
  },
  {
   "cell_type": "markdown",
   "metadata": {},
   "source": [
    "#### [설명]\n",
    "- and와 or은 피연산자의 값으로 진리값인 True 또는 False을 취하여 논리적인 계산을 수행하는 연산자이고, 논리 연산자 자체가 값을 반환하지 않는다. 따라서, 논리 연산을 따라 최종적으로 평가(Evaluation) 되어진 값이 반환된다.\n",
    "  \n",
    "  - 예를 들면 \"A and B\", \"A or B\"라고 하면,\n",
    "  - and 연산은 논리 연산을 따라 A가 False이면 A, True이면 B 값이 반환된다.\n",
    "    - ex) print(1 and 4) -> 4\n",
    "  - or 연산은 논리 연산을 따라 A가 False이면 B, True이면 A 값이 반환된다.\n",
    "    - ex) print(3 and 5) -> 3\n",
    "    \n",
    "    \n",
    " 따라서, \n",
    "  - print(1 and 2 and 3 and 4)\n",
    "    - 1 and 2 -> 1은 True이므로 2의 값 반환\n",
    "    - 2 and 3 -> 2는 True이므로 3의 값 반환\n",
    "    - 3 and 4 -> 3은 True이므로 4의 값 반환\n",
    " \n",
    "  - print(1 or 2 or 3 or 4)\n",
    "    - 1 or 2 -> 1은 True이므로 1의 값 반환\n",
    "    - 1 or 3 -> 1은 True이므로 1의 값 반환\n",
    "    - 1 or 4 -> 1은 True이므로 1의 값 반환\n",
    "\n",
    "  - print(1 and 2 or 3 and 4)\n",
    "    - and가 or보다 우선순위를 가진다.\n",
    "    - 1 and 2 -> 2, 3 and 4 -> 4, 2 or 4 -> 2\n",
    "    \n",
    "  - print((1 and 2) or (3 and 4))\n",
    "    - 괄호가 우선순위가 가장 높으므로, 괄호 먼저 연산 한다. \n",
    "    - 1 and 2 연산 중 2, 3 and 4 연산 중 4, 2 or 4 연산 중 2이므로, 최종적으로 2가 출력된다.\n",
    "    \n",
    "  - print(1 or 2 and 3 or 4)\n",
    "    - and가 or보다 우선순위를 가진다.\n",
    "    - 2 and 3 -> 3, 1 or 3 -> 1, 1 or 4 -> 1\n",
    "    \n",
    "  - print((1 or 2) and (3 or 4))\n",
    "     - (1 or 2) -> 1, (3 or 4) -> 3, 1 and 3 -> 3"
   ]
  },
  {
   "cell_type": "markdown",
   "metadata": {},
   "source": [
    "### 문제 2\n",
    "- 경로에 해당하는 문자열 1개를 입력 받아 그 안에 디렉토리 경로명과 파일명을 분리하여 리스트로 반환하는 함수 div_path(s)를 작성하시오.\n",
    "  - 인자로 전달하는 문자열은 경로만 들어간다고 가정한다.\n",
    "  - 각 디렉토리와 파일을 구분하는 문자는 '/'로 가정한다.\n",
    "  - 반환하는 리스트의 첫번째 원소는 디렉토리이고 두번째 원소는 파일명이다.\n",
    "  - 다음과 같은 실행 및 출력 결과가 도출되어야 한다.\n",
    "    - div_path('/usr/local/bin/python')\n",
    "      - ['/usr/local/bin', 'python']\n",
    "    - div_path('/home/chulsoo/test.txt')\n",
    "      - ['/home/chulsoo', 'test.txt']\n",
    "- [참고] 리스트(l) 내에 새로운 정수값 (예를 들어 10)을 넣는 방법은 l.append(10) 이다."
   ]
  },
  {
   "cell_type": "code",
   "execution_count": 52,
   "metadata": {},
   "outputs": [
    {
     "name": "stdout",
     "output_type": "stream",
     "text": [
      "['/usr/local/bin', 'python']\n",
      "['/home/chulsoo', 'test.txt']\n"
     ]
    }
   ],
   "source": [
    "path1 = \"/usr/local/bin/python\"\n",
    "path2 = \"/home/chulsoo/test.txt\"\n",
    "\n",
    "def div_path(path):\n",
    "    s = path.split('/') \n",
    "    b = '/'.join(s[0:-1])  # b 의 반환 값 : 문자열 type\n",
    "    \n",
    "    del s[:-1]\n",
    "    s.insert(0, b)\n",
    "    return s\n",
    "\n",
    "print(div_path(path1))\n",
    "print(div_path(path2))"
   ]
  },
  {
   "cell_type": "markdown",
   "metadata": {},
   "source": [
    "주어진 경로에 해당하는 문자열 path1, path2가 있다.\n",
    "\n",
    "div_path()라는 함수를 만들어, 경로명과 파일명을 구분하여 리스트로 반환하는 문제이다.\n",
    "\n",
    "인자로 전달하는 문자열은 경로만 들어간다고 가정하였고, 각 디렉토리와 파일명을 구분하는 문자는 '/'이다. \n",
    "\n",
    "반환하는 리스트의 첫 번째 원소는 파일명을 제외한 경로 디렉토리이고, 마지막 원소는 파일명이다.\n",
    "    \n",
    "    예상 출력문은 ['파일명을 제외한 디렉토리', '파일명]이다.\n",
    "  \n",
    "함수 div_path(path): 의 내용을 알아보면\n",
    " \n",
    "     s = path.split('/') 는, 문자 '/'를 기준으로 문자열을 나눈다.\n",
    "    s를 출력하면 ['usr', 'local', 'bin', 'python']이다.\n",
    "    \n",
    "     이 때, python을 제외한 나머지 원소는 디렉토리 경로이므로, 출력문\n",
    "    양식에 맞춰 원소 하나로 합쳐야 하기 때문에, \n",
    "    \n",
    "     b = '/'.join(s[0:-1])\n",
    "     \n",
    "      새로운 문자열 b에 리스트 s에서 마지막 원소를 제외한 원소들을 '/'\n",
    "     문자와 함께 한 문자열로 합쳐서 저장한다.\n",
    "     b를 출력하면 /usr/local/bin 이라는 문자열이 된다.\n",
    "     \n",
    "     del s[:-1]\n",
    "     \n",
    "      리스트 s에서 마지막 원소를 제외한 원소 값들을 삭제한다.\n",
    "     s를 출력하면 ['python']이다.\n",
    "     \n",
    "     s.insert(0, b)\n",
    " \n",
    "      리스트 s의 첫 번째 인덱스에 b라는 문자열을 삽입한다.\n",
    "     s를 출력하면 최종적으로, ['/usr/local/bin', 'python']의 형태가 된다.\n",
    " "
   ]
  },
  {
   "cell_type": "markdown",
   "metadata": {},
   "source": [
    "### 문제 3\n",
    "- 두 개의 리스트를 인자로 받아서 그 두 개의 리스트에 대한 '합집합'을 반환하는 함수 list_union(lista, listb)를 작성하시오.\n",
    "  - 인자로 전달하는 리스트 2 개에는 정수값만 들어간다고 가정하자.\n",
    "  - 함수 내에서 새로운 리스트를 만들어 그 리스트 내에 인자로 받은 두 리스트의 모든 원소를 넣어 반환한다.\n",
    "  - 반환하는 리스트에는 절대로 중복된 원소가 들어 있으면 안된다 (집합의 조건).\n",
    "  - 반환하는 리스트는 정렬이 되어 있어야 한다.\n",
    "  - 다음과 같은 실행 및 출력 결과가 도출되어야 한다.\n",
    "    - list_union([1, 2, 3], [1, 2, 4])\n",
    "      - [1, 2, 3, 4]\n",
    "    - list_union([-10, -5, 0, -1], [100, 9, 0, 9])\n",
    "      - [-10, -5, -1, 0, 9, 100]\n",
    "    - list_union([0, 1, 2], [0, 1, 2])\n",
    "      - [0, 1, 2]\n",
    "- [참고] 리스트(l) 내에 새로운 정수값 (예를 들어 10)을 넣는 방법은 l.append(10) 이다.\n",
    "- [참고] 임의의 정수값 (x)이 리스트 (l) 내에 존재하는지 판단하는 방법은 x in l 이다."
   ]
  },
  {
   "cell_type": "code",
   "execution_count": 8,
   "metadata": {},
   "outputs": [
    {
     "name": "stdout",
     "output_type": "stream",
     "text": [
      "[1, 2, 3, 4]\n",
      "[-10, -5, -1, 0, 9, 100]\n",
      "[0, 1, 2]\n"
     ]
    }
   ],
   "source": [
    "def list_union(lista, listb):           # 인자로 전달하는 리스트 2개엔 정수 값만 들어간다.\n",
    "    list_sum = lista + listb            # lista와 listb를 합친 리스트\n",
    "    \n",
    "    list_sum.sort()                     # 리스트 정렬\n",
    "  \n",
    "    i = 0\n",
    "    j = 1\n",
    "    \n",
    "    while i < len(list_sum)-1:                     # i, j 인덱스에 해당하는 원소 값을 비교하여 중복을 찾기 위함.         \n",
    "        while j < len(list_sum):                   # 일종의 bubble과 유사하다고 볼 수 있는데, j가 i보다 1 크다.\n",
    "            if (list_sum[i] == list_sum[j]):       # 중복 원소가 존재할 때,\n",
    "                del list_sum[j]                    # 중복 원소 인덱스가 j인 것을 삭제하고,\n",
    "                j = j - 1                          # 중복 원소 인덱스 j의 원소가 삭제되어 그 뒤의 값들이 차례로 내려오기 때문에 비교점 초기화\n",
    "            j = j + 1\n",
    "        i = i + 1\n",
    "        j = i + 1\n",
    "        \n",
    "    return list_sum\n",
    "\n",
    "a = list_union([1, 2, 3], [1, 2, 4])\n",
    "b = list_union([-10, -5, 0, -1], [100, 9, 0, 9])\n",
    "c = list_union([0, 1, 2], [0, 1, 2])\n",
    "\n",
    "print(a)\n",
    "print(b)\n",
    "print(c)"
   ]
  },
  {
   "cell_type": "markdown",
   "metadata": {
    "collapsed": true
   },
   "source": [
    "- 정리하자면, 이 문제는 두 리스트를 인자로 받아서 두 리스트의 원소 값의 중복 없이 정렬하여 출력하도록 하는 문제로 설명할 수 있다.\n",
    "- 문제를 해결하기 위해서, 함수(list_union(lista, listb))를 만들어서 해결하도록 한다.\n",
    "\n",
    "  - 나는 이 문제를 해결하기 위해 [참조]에 나온 append 내장함수를 사용하지 않았다.\n",
    "  - 그리고, 해당 리스트 내의 원소를 찾는 in 도 또한 사용하지 않았다.\n",
    "  \n",
    "  - 단순히, 인자로 받은 두 정수형 리스트들을 한 리스트에 넣고 정렬한다. 이 때, 중복 상관 없이 넣고 정렬한다.\n",
    "  \n",
    "  그 후, i=0, j=0라는 변수를 선언하고, 반복문을 돌리는데, 이 때, 반복문의 조건 i < len(list_sum)-1 은 두 인자로 받은\n",
    "  두 리스트의 합 리스트 list_sum을 인덱스 0, 즉 1 번째부터 마지막 전 크기까지 반복을 하도록 하고 반복문 내 반복문을 돌려\n",
    "  list_sum[i], list_sum[j]을 비교한다. 이 때, j는 항상 i 보다 1 큰 마지막 값까지 반복한다.\n",
    "  i = 0 -> j = 1, list_sum[0], list_sum[1]을 비교하여 중복 원소인지를 check한다. \n",
    "    - 만약, list_sum[i] == list_sum[j]라면, 중복 원소가 존재하므로 list에서 중복 원소를 삭제한다.\n",
    "    - 단, 전부 삭제 하는 것이 아니라, del list_sum[i]를 하여 그 j이전, i인덱스의 원소만을 삭제한다. \n",
    "    - 삭제하고 나면 인덱스의 값이 줄어들기 때문에 검색을 다시 할 위치을 j = j-1을 하여 잡아준다.\n",
    "    \n",
    "  - 따라서, list_union([1,2,3], [1,2,4])이라면, list_sum에 [1,2,3,1,2,4]가 입력되고, 정렬을 통해 [1,1,2,2,3,4]가 된다.\n",
    "  - 그 뒤, 반복문을 통해서 중복 원소를 제거하고 나면 [1,2,3,4]가 출력될 것이다."
   ]
  },
  {
   "cell_type": "markdown",
   "metadata": {},
   "source": [
    "### 문제 4\n",
    "- [ACM-ICPC 문제 1110번]\n",
    "  - 더하기 사이클\n",
    "  https://www.acmicpc.net/problem/1110"
   ]
  },
  {
   "cell_type": "markdown",
   "metadata": {
    "collapsed": true
   },
   "source": [
    "0보다 크거나 같고, 99보다 작거나 같은 정수가 주어질 때 다음과 같은 연산을 할 수 있다. 먼저 주어진 수가 10보다 작다면 앞에 0을 붙여 두 자리 수로 만들고, 각 자리의 숫자를 더한다. 그 다음, 주어진 수의 가장 오른쪽 자리 숫자와 앞에서 구한 합의 가장 오른쪽 자리 숫자를 이어 붙이면 새로운 수를 만들 수 있다. 다음 예를 보자.\n",
    "\n",
    "26부터 시작한다. 2+6 = 8이다. 새로운 숫자는 68이다. 6+8 = 14이다. 새로운 숫자는 84이다. 8+4 = 12이다. 새로운 숫자는 42이다. 4+2 = 6이다. 새로운 숫자는 26이다.\n",
    "\n",
    "위의 예는 4번만에 원래 숫자로 돌아올 수 있다. 따라서 26의 사이클의 길이는 4이다.\n",
    "\n",
    "N이 주어졌을 때, N의 사이클의 길이를 구하는 프로그램을 작성하시오."
   ]
  },
  {
   "cell_type": "code",
   "execution_count": 8,
   "metadata": {},
   "outputs": [
    {
     "name": "stdout",
     "output_type": "stream",
     "text": [
      "26\n",
      "4\n"
     ]
    }
   ],
   "source": [
    "N = int(input())\n",
    "count = 1                  # N의 사이클 길이 초기화, 반복문 이전에 1번을 수행하므로 1로 초기화한다.\n",
    "result = 0                 # 주어진 값과 비교하기 위한 변수\n",
    "\n",
    "if (N >= 10):\n",
    "    result = (N % 10) * 10 + (((int)(N / 10) + N % 10)%10)     \n",
    "else :\n",
    "    result = N * 10 + N\n",
    "\n",
    "while (result != N):\n",
    "    if (result >= 10): \n",
    "        result = (result % 10) * 10 + (((int)(result / 10) + result % 10)%10)\n",
    "    else:\n",
    "        result = result * 10 + result\n",
    "    count = count + 1\n",
    "\n",
    "print(count)"
   ]
  },
  {
   "cell_type": "markdown",
   "metadata": {
    "collapsed": true
   },
   "source": [
    "#### 입력 값 : 0 이상 99 이하의 정수\n",
    "\n",
    "- 본 문제에 대한 수식에 대해서 정리하자면,\n",
    "  - 주어진 값이 10이상인지, 10 미만의 0 이상의 정수인지를 나눠서 연산한다.\n",
    "    - 주어진 값이 10이상이면, 기존 값의 일의 자리 값 * 10 + (십의 자리 값과 일의 자리의 값을 더한 값에 mod 10을 한 값)\n",
    "    예) 주어진 값 : 50\n",
    "      기존 값의 일의 자리 값 : 0 * 10 = 0\n",
    "      십의 자리 값과 일의 자리 값을 더한 값에 mod를 10한 값 : (5+0)%10\n",
    "      = 5\n",
    "      최종 값 : 0+5 = 5\n",
    "      \n",
    "    - 주어진 값이 10 미만이면, 10을 곱하고 주어진 값을 더한다.\n",
    "    예) 주어진 값 : 8\n",
    "      기존 값 * 10 + 주어진 값 = 8 * 10 + 8 = 88\n",
    "      \n",
    "  - 이런 식으로, 주어진 값 26에 대해서 풀이해보자.\n",
    "    - 주어진 값 26이면,\n",
    "      - count = 1일 때, \n",
    "        - 10 이상의 값이므로 : 6 * 10 = 60, (2+6) mod 10 = 8 -> 68\n",
    "        주어진 값과 다르다. 반복 -> count++\n",
    "      - count = 2일 때,\n",
    "        - 10 이상의 값이므로 : 8 * 10 = 80, (6+8) mod 10 = 4 -> 84\n",
    "        주어진 값과 다르다. 반복 -> count++\n",
    "      - count = 3일 때,\n",
    "        - 10 이상의 값이므로 : 4 * 10 = 40, (8+4) mod 10 = 2 -> 42\n",
    "        주어진 값과 다르다. 반복 -> count++\n",
    "      - count = 4일 때,\n",
    "        - 10 이상의 값이므로 : 2 * 10 = 20, (4+2) mod 10 = 6 -> 26\n",
    "        주어진 값과 같으므로, 반복 끝, count 출력 = 4\n"
   ]
  },
  {
   "cell_type": "markdown",
   "metadata": {},
   "source": [
    "<img src=\"img/1110.jpg\" height = 50%>"
   ]
  },
  {
   "cell_type": "markdown",
   "metadata": {},
   "source": [
    "### 문제 5\n",
    "#### Incremental Project\n",
    "- [Incremental Project] 웹 URL로 지정된 웹페이지를 문자열로 가져와 1) 모든 HTML 태그를 제외한 순수 텍스트 문자열만을 걸러내고, 2) 그 순수 텍스트 문자열 안에 존재하는 단어가 총 몇개인지 출력하는 프로그램을 작성하시오."
   ]
  },
  {
   "cell_type": "markdown",
   "metadata": {},
   "source": [
    "- HTML 태그는 다음 조건을 가지는 것이다.\n",
    "\n",
    "< 로 시작하여 >로 끝난다.\n",
    "예를 들어, 아래와 같은 HTML 내용 내에 한 줄이 있다고 가정하자.\n",
    "<label for=\"keep_signed\">로그인 유지</label>\n",
    "위 소스에서 HTML 태그를 제외한 순수 텍스트 문자열은 아래와 같다.\n",
    "로그인 유지\n",
    "한편, 아래와 같은 HTML 한 줄이 있다고 가정하자.\n",
    "<link rel=\"stylesheet\" href=\"/common/css/xe.min.css?20150910092654\" />\n",
    "위 소스는 HTML 태그로만 구성된 것이며 걸러낼 수 있는 순수 텍스 문자열은 존재하지 않는다.\n",
    "단어를 나누는 기준은 오로지 공백문자 (whitespace)이다.\n",
    "\n",
    "즉, 위 순수 텍스트 문자열인 \"로그인 유지\"에서 분리한 단어는 \"로그인\"과 \"유지\"이다.\n",
    "중복을 고려하지 않고 무조건 모든 단어의 개수를 세어서 출력한다.\n",
    "본 숙제를 위하여 HTML 파싱과 관련된 모듈 (예. BeautifulSoup) 사용 금지\n",
    "다음은 URL로 지정된 웹페이지를 특정 문자열로 가져오는 코드이다.\n",
    "즉, 숙제 코드는 아래 코드로 부터 시작해야 한다."
   ]
  },
  {
   "cell_type": "code",
   "execution_count": 5,
   "metadata": {},
   "outputs": [
    {
     "name": "stdout",
     "output_type": "stream",
     "text": [
      "473\n"
     ]
    }
   ],
   "source": [
    "from urllib import request \n",
    " \n",
    "url = 'http://cse.koreatech.ac.kr'\n",
    "\n",
    "f = request.urlopen(url)\n",
    "source_bytes = f.read()\n",
    "source = source_bytes.decode('utf-8')\n",
    "\n",
    "source.strip()                                  #양 쪽 끝에 있는 공백을 없앤다.\n",
    "a = 0\n",
    "b = 0\n",
    "count = 0                                       #HTML 구문, 코드를 제외한 문자의 개수\n",
    "\n",
    "while(a != -1):                                 # a != -1의 조건 기준은 source.find('<', b)에서 b 인덱스 이후로 \n",
    "                                                # < 문자가 더이상 존재하지 않을 때, a에다가 -1을 리턴해준다.\n",
    "    a = source.find('<', b) \n",
    "    b = source.find('>', a) \n",
    "    a1 = source.find('<', b)\n",
    "\n",
    "    if((a1 > b) and (a1 != a) ):                # > 이 사이에 있는 것이 문자열이라는 조건 <\n",
    "        count = count + len(source[(b+1):a1].split())        # 그 사이에 있는 것이 문자열인데 그 안에 단어가 몇개 있는지를 공백 기준 쪼갠다.\n",
    "        \n",
    "print(count)\n",
    "    \n",
    "    \n",
    "#문자열은 indexing을 통해 그 내용을 변경할 수 없기 때문에 del을 이용하여 HTML 코드를 삭제하지 못하고, 문자의 개수만 체크를 하였다.    \n",
    "    \n",
    "#print(source)\n",
    "\n",
    "\n",
    "#print(type(source_bytes))\n",
    "#print(type(source))"
   ]
  },
  {
   "cell_type": "markdown",
   "metadata": {},
   "source": [
    "- 위 문제에서 선행되어야 할 조건은, 우선 url의 내용을 읽어와 utf-8으로 디코딩 해야하는 것. 그리고\n",
    "  - source.strip()을 통해 html 페이지 소스 내 \\n, \\t 등의 양 쪽 끝에 있는 공백을 없애 주어야 한다. \n",
    "  \n",
    "  - 내가 문제를 해결하기 위해서 사용한 방법은, HTML의 구문은 '<' 문자로 시작해서 '>'로 닫혀지는 구간은 모두 HTML이며,\n",
    "  - '>' 이 곳 '<' 이 곳과 같이 위와 다른 곳은 문자라고 해석했다.\n",
    "  - 이 때, .find('A','B')라는 내장함수를 사용하여, B인덱스 위치에서부터 가장 가까운 A문자의 인덱스를 리턴한다.\n",
    "    - a = source.find('<', b) -> a = b 인덱스에서 가장 가까운 '<'의 인덱스 \n",
    "    - b = source.find('>', a) -> b = 새로 위치한 a 인덱스에서 가장 가까운 '>'의 인덱스\n",
    "      - [a:b]는 HTML구문이 들어간다.\n",
    "    - a1 = source.find('<', b) -> a1 = b 인덱스에서 가장 가까운 새로운 '<'의 인덱스, > < 사이의 문자열(단어의 집합)\n",
    "      - 우리는 이 부분의 단어의 개수를 출력하는 것이 목적이다. [b+1 : a1]는 문자(단어의 집합)이다.\n",
    "      - 이 때, 문자열을 단어 단위로 쪼개는데, 쪼개는 기준은 공백문자(whitespace)이므로 source[(b+1):a1].split()이다.\n",
    "      - len(source[(b+1):a1].split())는 쪼개진 단어의 개수이다.\n",
    "      - 따라서, count = count + len(source[(b+1):a1].split())이다.\n",
    "      \n",
    "- 컴파일 할 때, 가끔 단어의 개수가 바뀔 때가 있는데, 이 이유는 해당 URL 사이트에 출력되는 페이지에 게시글이 계속 바뀌기 때문에 단어의 개수가 계속 바뀌는 이유였다."
   ]
  }
 ],
 "metadata": {
  "kernelspec": {
   "display_name": "Python 3",
   "language": "python",
   "name": "python3"
  },
  "language_info": {
   "codemirror_mode": {
    "name": "ipython",
    "version": 3
   },
   "file_extension": ".py",
   "mimetype": "text/x-python",
   "name": "python",
   "nbconvert_exporter": "python",
   "pygments_lexer": "ipython3",
   "version": "3.6.1"
  }
 },
 "nbformat": 4,
 "nbformat_minor": 2
}
